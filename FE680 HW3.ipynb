{
 "cells": [
  {
   "cell_type": "code",
   "execution_count": 57,
   "metadata": {},
   "outputs": [],
   "source": [
    "import numpy as np\n",
    "import scipy.stats as si\n",
    "import pandas as pd\n",
    "import math\n",
    "import matplotlib.pyplot as plt"
   ]
  },
  {
   "cell_type": "code",
   "execution_count": null,
   "metadata": {},
   "outputs": [],
   "source": [
    "T = 1\n",
    "s = 5\n",
    "L = 100\n",
    "K = 70\n",
    "a = 0.08\n",
    "b = 0.05\n",
    "sigma = 0.02\n",
    "P0T = np.exp(-b * T)\n",
    "P0s = np.exp(-b * s)\n",
    "sigmaP = (sigma / a) * (1 - np.exp(-a * (s - T))) * np.sqrt((1 - np.exp(-2 * a * T)) / (2 * a))\n",
    "h = (np.log((L * P0s) / (P0T * K))) / sigmaP + sigmaP / 2\n",
    "C = L * P0s * si.norm.cdf(h, 0.0, 1.0) - K * P0T * si.norm.cdf(h - sigmaP, 0.0, 1.0)"
   ]
  },
  {
   "cell_type": "code",
   "execution_count": 3,
   "metadata": {},
   "outputs": [
    {
     "data": {
      "text/plain": [
       "11.307679858959219"
      ]
     },
     "execution_count": 3,
     "metadata": {},
     "output_type": "execute_result"
    }
   ],
   "source": [
    "C"
   ]
  },
  {
   "cell_type": "code",
   "execution_count": 4,
   "metadata": {},
   "outputs": [
    {
     "data": {
      "text/plain": [
       "0.05890901349862259"
      ]
     },
     "execution_count": 4,
     "metadata": {},
     "output_type": "execute_result"
    }
   ],
   "source": [
    "0.055265 - (0.003637)**2 / (0.051635 - 0.055265)"
   ]
  },
  {
   "cell_type": "code",
   "execution_count": 5,
   "metadata": {},
   "outputs": [
    {
     "data": {
      "text/plain": [
       "0.044360982364287684"
      ]
     },
     "execution_count": 5,
     "metadata": {},
     "output_type": "execute_result"
    }
   ],
   "source": [
    "0.048006 - (0.003637)**2 / (0.051635 - 0.048006)"
   ]
  },
  {
   "cell_type": "code",
   "execution_count": 39,
   "metadata": {},
   "outputs": [],
   "source": [
    "# solve two equations\n",
    "def solver(alpha, exp, dw):\n",
    "    # dw is σ√dt\n",
    "    r = exp - (dw)**2 / (alpha - exp) \n",
    "    return r"
   ]
  },
  {
   "cell_type": "code",
   "execution_count": 40,
   "metadata": {},
   "outputs": [],
   "source": [
    "#  build tree and calculate the interest rates for a 30 periods\n",
    "def VTree(period, sigma, r0, theta, k, dt):\n",
    "    dx = k * (theta - r0) * dt\n",
    "    dw = sigma * np.sqrt(dt)\n",
    "    nodes = [0.0] * ((2 * period + 1) * (period + 1)) \n",
    "    nodes = np.reshape(nodes, (2 * period + 1, period + 1))\n",
    "    nodes[period, 0] = r0\n",
    "    \n",
    "    # expected rate for current time\n",
    "    for i in range(1, period + 1, 1):\n",
    "        nodes[period, i] = nodes[period, i - 1] + k * (theta - nodes[period, i - 1]) * dt\n",
    "    \n",
    "    # use the expected rate to calculate the up and down rates\n",
    "    for i in range(1, period + 1, 2):\n",
    "        nodes[period - 1, i] = nodes[period, i - 1] + k * (theta - nodes[period, i - 1]) * dt + dw\n",
    "        nodes[period + 1, i] = nodes[period, i - 1] + k * (theta - nodes[period, i - 1]) * dt - dw\n",
    "        nodes[period, i] = 0\n",
    "    \n",
    "    # extend the recombinding tree with a solver\n",
    "    for i in range(2, period + 1, 1):\n",
    "        # in even period\n",
    "        if i%2 == 0:\n",
    "            for j in range(period - 2, period - 2 - i, -2):\n",
    "                alpha = nodes[j + 2, i]\n",
    "                exp = nodes[j + 1, i - 1] + k * (theta - nodes[j + 1, i - 1]) * dt\n",
    "                nodes[j, i] = solver(alpha, exp, dw)\n",
    "                \n",
    "            for j in range(period + 2, period + 2 + i, 2):\n",
    "                alpha = nodes[j - 2, i]\n",
    "                exp = nodes[j - 1, i - 1] + k * (theta - nodes[j - 1, i - 1]) * dt\n",
    "                nodes[j, i] = solver(alpha, exp, dw)      \n",
    "        \n",
    "        # in odd period\n",
    "        else:\n",
    "            for j in range(period - 3, period - 2 - i, -2):\n",
    "                alpha = nodes[j + 2, i]\n",
    "                exp = nodes[j + 1, i - 1] + k * (theta - nodes[j + 1, i - 1]) * dt\n",
    "                nodes[j, i] = solver(alpha, exp, dw)\n",
    "            \n",
    "            for j in range(period + 3, period + 2 + i, 2):\n",
    "                alpha = nodes[j - 2, i]\n",
    "                exp = nodes[j - 1, i - 1] + k * (theta - nodes[j - 1, i - 1]) * dt\n",
    "                nodes[j, i] = solver(alpha, exp, dw)                    \n",
    "    \n",
    "    return nodes"
   ]
  },
  {
   "cell_type": "code",
   "execution_count": 47,
   "metadata": {},
   "outputs": [],
   "source": [
    "Tree = pd.DataFrame(VTree(30, 0.0126, 0.05121, 0.15339, 0.025, 1 / 12))"
   ]
  },
  {
   "cell_type": "code",
   "execution_count": 49,
   "metadata": {},
   "outputs": [],
   "source": [
    "Tree.to_csv('‪Tree.csv')"
   ]
  },
  {
   "cell_type": "code",
   "execution_count": 151,
   "metadata": {},
   "outputs": [],
   "source": [
    "period = 30\n",
    "sigma = 0.0126\n",
    "r0 = 0.05121\n",
    "theta = 0.15339\n",
    "k = 0.025\n",
    "dt = 1 /12\n",
    "\n",
    "# risk-neutral results\n",
    "rndist = [0.0] * (3 * (period + 1))\n",
    "rndist = np.reshape(rndist, (3, period + 1))\n",
    "rndist[0, 0] = r0\n",
    "rndist[1, 0] = r0\n",
    "rndist[2, 0] = r0\n",
    "\n",
    "# Monte Carlo results\n",
    "mc = [0.0] * (3 * (period + 1))\n",
    "mc = np.reshape(mc, (3, period + 1))\n",
    "mc[0, 0] = r0\n",
    "mc[1, 0] = r0\n",
    "mc[2, 0] = r0\n",
    "for i in range(1, period + 1, 1):\n",
    "    # calculate according to risk-neutral equation\n",
    "    rndist[1, i] = rndist[1, i - 1] + k * (theta - rndist[1, i - 1]) * dt\n",
    "    rndist[0, i] = rndist[1, i] + sigma * np.sqrt(i * dt)\n",
    "    rndist[2, i] = rndist[1, i] - sigma * np.sqrt(i * dt)\n",
    "    \n",
    "    # calculate according to Monte Carlo, simulate 10000 times\n",
    "    mc[1, i] = mc[1, i - 1] + k * (theta - mc[1, i - 1]) * dt + sigma * np.mean(np.random.normal(0, 1, 10000))\n",
    "    mc[0, i] = mc[1, i] + sigma * np.sqrt(i * dt)\n",
    "    mc[2, i] = mc[1, i] - sigma * np.sqrt(i * dt)\n",
    "rndist = np.transpose(rndist)\n",
    "mc = np.transpose(mc)"
   ]
  },
  {
   "cell_type": "code",
   "execution_count": 154,
   "metadata": {},
   "outputs": [
    {
     "data": {
      "image/png": "[encoded data removed]",
      "text/plain": [
       "<matplotlib.figure.Figure at 0x28e4945de10>"
      ]
     },
     "metadata": {},
     "output_type": "display_data"
    }
   ],
   "source": [
    "rndist = pd.DataFrame(rndist)\n",
    "mc = pd.DataFrame(mc)\n",
    "rndist.columns = ['exp+sd', 'exp', 'exp-sd']\n",
    "mc.columns = ['exp+sd_mc', 'exp_mc', 'exp-sd_mc']\n",
    "rndist.plot()\n",
    "plt.plot(mc,'go', markersize=4)\n",
    "plt.title('Risk-neutral and Monte Carlo')\n",
    "plt.show()"
   ]
  },
  {
   "cell_type": "code",
   "execution_count": null,
   "metadata": {},
   "outputs": [],
   "source": []
  }
 ],
 "metadata": {
  "kernelspec": {
   "display_name": "Python 3",
   "language": "python",
   "name": "python3"
  },
  "language_info": {
   "codemirror_mode": {
    "name": "ipython",
    "version": 3
   },
   "file_extension": ".py",
   "mimetype": "text/x-python",
   "name": "python",
   "nbconvert_exporter": "python",
   "pygments_lexer": "ipython3",
   "version": "3.5.4"
  }
 },
 "nbformat": 4,
 "nbformat_minor": 2
}
